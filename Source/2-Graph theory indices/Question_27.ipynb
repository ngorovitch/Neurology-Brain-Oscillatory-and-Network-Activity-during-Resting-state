{
 "cells": [
  {
   "cell_type": "markdown",
   "metadata": {},
   "source": [
    "#### Task (class ‘C’):\n",
    "\n",
    "    Perform point 2.1 considering the weighted version of the graph indices definitions."
   ]
  },
  {
   "cell_type": "markdown",
   "metadata": {},
   "source": [
    "#### Importing the routine libraries"
   ]
  },
  {
   "cell_type": "code",
   "execution_count": 1,
   "metadata": {},
   "outputs": [],
   "source": [
    "import sys\n",
    "sys.path.insert(0, '../Lib')\n",
    "from homeworkLib import EEGGraph\n",
    "import pickle\n",
    "import networkx as nx\n",
    "import pandas as pd\n",
    "import numpy as np\n",
    "import operator\n",
    "from pprint import pprint"
   ]
  },
  {
   "cell_type": "markdown",
   "metadata": {},
   "source": [
    "### Loading our graphs from question 1.2"
   ]
  },
  {
   "cell_type": "code",
   "execution_count": 2,
   "metadata": {},
   "outputs": [],
   "source": [
    "with open(\"../Pickle/EO_12.file\", \"rb\") as f:\n",
    "    EO = pickle.load(f)\n",
    "with open(\"../Pickle/EC_12.file\", \"rb\") as f:\n",
    "    EC = pickle.load(f)\n",
    "\n",
    "# EO: Eyes-opened case\n",
    "dtf_A_EO = EO.adj_matrix_dtf\n",
    "pdc_A_EO = EO.adj_matrix_pdc\n",
    "\n",
    "dtf_graph_EO = EO.dtf_weighted_graph\n",
    "pdc_graph_EO = EO.pdc_weighted_graph\n",
    "\n",
    "dtf_matrix_EO = EO.dtf_matrix\n",
    "pdc_matrix_EO = EO.pdc_matrix\n",
    "\n",
    "# EC: Eyes-closed case\n",
    "dtf_A_EC = EC.adj_matrix_dtf\n",
    "pdc_A_EC = EC.adj_matrix_pdc\n",
    "\n",
    "dtf_graph_EC = EC.dtf_weighted_graph\n",
    "pdc_graph_EC = EC.pdc_weighted_graph\n",
    "\n",
    "dtf_matrix_EC = EC.dtf_matrix\n",
    "pdc_matrix_EC = EC.pdc_matrix"
   ]
  },
  {
   "cell_type": "markdown",
   "metadata": {},
   "source": [
    "### Global graph indices"
   ]
  },
  {
   "cell_type": "markdown",
   "metadata": {},
   "source": [
    "#### Eyes opened case"
   ]
  },
  {
   "cell_type": "code",
   "execution_count": 3,
   "metadata": {},
   "outputs": [
    {
     "name": "stdout",
     "output_type": "stream",
     "text": [
      "Clustering coefficient of the dtf graph:  0.24120863839945975\n",
      "Clustering coefficient of the pdc graph:  0.07606481625339864\n",
      "Average path length of the dtf graph:  0.15424604176150664\n",
      "Average path length of the pdc graph:  0.2683620760339204\n"
     ]
    }
   ],
   "source": [
    "print(\"Clustering coefficient of the dtf graph: \", nx.average_clustering(dtf_graph_EO, weight = 'weight'))\n",
    "print(\"Clustering coefficient of the pdc graph: \", nx.average_clustering(pdc_graph_EO, weight = 'weight'))\n",
    "\n",
    "print(\"Average path length of the dtf graph: \", nx.average_shortest_path_length(dtf_graph_EO, weight = 'weight'))\n",
    "print(\"Average path length of the pdc graph: \", nx.average_shortest_path_length(pdc_graph_EO, weight = 'weight'))"
   ]
  },
  {
   "cell_type": "markdown",
   "metadata": {},
   "source": [
    "#### Eyes closed case"
   ]
  },
  {
   "cell_type": "code",
   "execution_count": 4,
   "metadata": {},
   "outputs": [
    {
     "name": "stdout",
     "output_type": "stream",
     "text": [
      "Clustering coefficient of the dtf graph:  0.16761805673073563\n",
      "Clustering coefficient of the pdc graph:  0.12350022485234731\n",
      "Average path length of the dtf graph:  0.12475166489296624\n",
      "Average path length of the pdc graph:  0.32383980843965066\n"
     ]
    }
   ],
   "source": [
    "print(\"Clustering coefficient of the dtf graph: \", nx.average_clustering(dtf_graph_EC, weight = 'weight'))\n",
    "print(\"Clustering coefficient of the pdc graph: \", nx.average_clustering(pdc_graph_EC, weight = 'weight'))\n",
    "\n",
    "print(\"Average path length of the dtf graph: \", nx.average_shortest_path_length(dtf_graph_EC, weight = 'weight'))\n",
    "print(\"Average path length of the pdc graph: \", nx.average_shortest_path_length(pdc_graph_EC, weight = 'weight'))"
   ]
  },
  {
   "cell_type": "markdown",
   "metadata": {},
   "source": [
    "### Local graph indices"
   ]
  },
  {
   "cell_type": "markdown",
   "metadata": {},
   "source": [
    "#### Eyes opened case"
   ]
  },
  {
   "cell_type": "code",
   "execution_count": 5,
   "metadata": {},
   "outputs": [],
   "source": [
    "degree_centrality_dtf_EO = dict(dtf_graph_EO.degree(weight='weight'))\n",
    "degree_centrality_pdc_EO = dict(pdc_graph_EO.degree(weight='weight'))\n",
    "\n",
    "in_degree_centrality_dtf_EO = dict(dtf_graph_EO.in_degree(weight='weight'))\n",
    "in_degree_centrality_pdc_EO = dict(pdc_graph_EO.in_degree(weight='weight'))\n",
    "\n",
    "out_degree_centrality_dtf_EO = dict(dtf_graph_EO.out_degree(weight='weight'))\n",
    "out_degree_centrality_pdc_EO = dict(pdc_graph_EO.out_degree(weight='weight'))"
   ]
  },
  {
   "cell_type": "markdown",
   "metadata": {},
   "source": [
    "##### 10 highest chanel for the degree centrality using the dtf graph"
   ]
  },
  {
   "cell_type": "code",
   "execution_count": 6,
   "metadata": {},
   "outputs": [
    {
     "name": "stdout",
     "output_type": "stream",
     "text": [
      "[('Channel', 'Degree_centrality'),\n",
      " ('Af8', 23.288237668845653),\n",
      " ('Af4', 22.744296882305388),\n",
      " ('Po3', 18.926596050769408),\n",
      " ('F4', 17.12369620334633),\n",
      " ('O2', 15.323965724441216),\n",
      " ('Afz', 14.949139350299411),\n",
      " ('Fpz', 11.078764418779615),\n",
      " ('P5', 10.868317050864484),\n",
      " ('Oz', 9.779643654042053),\n",
      " ('F2', 9.660874197124935)]\n"
     ]
    }
   ],
   "source": [
    "sorted_degree_centrality_dtf_EO = sorted(degree_centrality_dtf_EO.items(), key = operator.itemgetter(1), reverse = True)\n",
    "nodes = np.arange(len(EO.labels))\n",
    "channels = dict(zip(nodes, EO.labels))\n",
    "sorted_degree_centrality_dtf_EO = [(channels[t[0]], t[1]) for t in sorted_degree_centrality_dtf_EO]\n",
    "sorted_degree_centrality_dtf_EO = [('Channel', 'Degree_centrality')] + sorted_degree_centrality_dtf_EO\n",
    "pprint(sorted_degree_centrality_dtf_EO[:11])"
   ]
  },
  {
   "cell_type": "markdown",
   "metadata": {},
   "source": [
    "##### 10 highest chanel for the in-degree centrality using the dtf graph"
   ]
  },
  {
   "cell_type": "code",
   "execution_count": 7,
   "metadata": {},
   "outputs": [
    {
     "name": "stdout",
     "output_type": "stream",
     "text": [
      "[('Channel', 'In_degree_centrality'),\n",
      " ('Af8', 21.133867360626724),\n",
      " ('Af4', 20.171741693405977),\n",
      " ('Po3', 17.023042595970303),\n",
      " ('F4', 14.86685109781979),\n",
      " ('Afz', 12.204255554123622),\n",
      " ('O2', 11.44231498950197),\n",
      " ('Fpz', 8.63996812750214),\n",
      " ('P5', 7.772828076337035),\n",
      " ('F2', 7.112155461727576),\n",
      " ('Oz', 7.016217907099267)]\n"
     ]
    }
   ],
   "source": [
    "sorted_in_degree_centrality_dtf_EO = sorted(in_degree_centrality_dtf_EO.items(), key = operator.itemgetter(1), reverse = True)\n",
    "sorted_in_degree_centrality_dtf_EO = [(channels[t[0]], t[1]) for t in sorted_in_degree_centrality_dtf_EO]\n",
    "sorted_in_degree_centrality_dtf_EO = [('Channel', 'In_degree_centrality')] + sorted_in_degree_centrality_dtf_EO\n",
    "pprint(sorted_in_degree_centrality_dtf_EO[:11])"
   ]
  },
  {
   "cell_type": "markdown",
   "metadata": {},
   "source": [
    "##### 10 highest chanel for the out-degree centrality using the dtf graph"
   ]
  },
  {
   "cell_type": "code",
   "execution_count": 8,
   "metadata": {},
   "outputs": [
    {
     "name": "stdout",
     "output_type": "stream",
     "text": [
      "[('Channel', 'Out_degree_centrality'),\n",
      " ('O2', 3.881650734939246),\n",
      " ('T9', 3.497198991554268),\n",
      " ('Cp6', 3.4368336116539524),\n",
      " ('C6', 3.378659038868978),\n",
      " ('T7', 3.3770742938998635),\n",
      " ('C4', 3.2337937383218063),\n",
      " ('Ft7', 3.2234819218392206),\n",
      " ('T8', 3.1816663512141785),\n",
      " ('Po8', 3.1500446940332796),\n",
      " ('Fz', 3.149113933728846)]\n"
     ]
    }
   ],
   "source": [
    "sorted_out_degree_centrality_dtf_EO = sorted(out_degree_centrality_dtf_EO.items(), key = operator.itemgetter(1), reverse = True)\n",
    "sorted_out_degree_centrality_dtf_EO = [(channels[t[0]], t[1]) for t in sorted_out_degree_centrality_dtf_EO]\n",
    "sorted_out_degree_centrality_dtf_EO = [('Channel', 'Out_degree_centrality')] + sorted_out_degree_centrality_dtf_EO\n",
    "pprint(sorted_out_degree_centrality_dtf_EO[:11])"
   ]
  },
  {
   "cell_type": "markdown",
   "metadata": {},
   "source": [
    "#### Eyes closed case"
   ]
  },
  {
   "cell_type": "code",
   "execution_count": 9,
   "metadata": {},
   "outputs": [],
   "source": [
    "degree_centrality_dtf_EC = dict(dtf_graph_EC.degree(weight='weight'))\n",
    "degree_centrality_pdc_EC = dict(pdc_graph_EC.degree(weight='weight'))\n",
    "\n",
    "in_degree_centrality_dtf_EC = dict(dtf_graph_EC.in_degree(weight='weight'))\n",
    "in_degree_centrality_pdc_EC = dict(pdc_graph_EC.in_degree(weight='weight'))\n",
    "\n",
    "out_degree_centrality_dtf_EC = dict(dtf_graph_EC.out_degree(weight='weight'))\n",
    "out_degree_centrality_pdc_EC = dict(pdc_graph_EC.out_degree(weight='weight'))"
   ]
  },
  {
   "cell_type": "markdown",
   "metadata": {},
   "source": [
    "##### 10 highest chanel for the degree centrality using the dtf graph"
   ]
  },
  {
   "cell_type": "code",
   "execution_count": 10,
   "metadata": {},
   "outputs": [
    {
     "name": "stdout",
     "output_type": "stream",
     "text": [
      "[('Channel', 'Degree_centrality'),\n",
      " ('O2', 24.924789176287643),\n",
      " ('F4', 21.883634321491837),\n",
      " ('F2', 15.437093018490973),\n",
      " ('Cp1', 14.770800194814505),\n",
      " ('Iz', 14.69609693562169),\n",
      " ('Af8', 14.635695360861371),\n",
      " ('O1', 12.79272198424088),\n",
      " ('Poz', 9.098083234310632),\n",
      " ('P5', 8.860253464079651),\n",
      " ('Af4', 8.4315590973466)]\n"
     ]
    }
   ],
   "source": [
    "sorted_degree_centrality_dtf_EC = sorted(degree_centrality_dtf_EC.items(), key = operator.itemgetter(1), reverse = True)\n",
    "nodes = np.arange(len(EC.labels))\n",
    "channels = dict(zip(nodes, EC.labels))\n",
    "sorted_degree_centrality_dtf_EC = [(channels[t[0]], t[1]) for t in sorted_degree_centrality_dtf_EC]\n",
    "sorted_degree_centrality_dtf_EC = [('Channel', 'Degree_centrality')] + sorted_degree_centrality_dtf_EC\n",
    "pprint(sorted_degree_centrality_dtf_EC[:11])"
   ]
  },
  {
   "cell_type": "markdown",
   "metadata": {},
   "source": [
    "##### 10 highest chanel for the in-degree centrality using the dtf graph"
   ]
  },
  {
   "cell_type": "code",
   "execution_count": 11,
   "metadata": {},
   "outputs": [
    {
     "name": "stdout",
     "output_type": "stream",
     "text": [
      "[('Channel', 'In_degree_centrality'),\n",
      " ('O2', 22.27628591964568),\n",
      " ('F4', 20.29135163649614),\n",
      " ('Iz', 12.90165504651629),\n",
      " ('F2', 12.645193139261375),\n",
      " ('Af8', 12.552808194336123),\n",
      " ('Cp1', 11.525766541369086),\n",
      " ('O1', 10.667065176737754),\n",
      " ('Poz', 7.258225538219148),\n",
      " ('P5', 6.178583876059344),\n",
      " ('Af4', 5.793873829777607)]\n"
     ]
    }
   ],
   "source": [
    "sorted_in_degree_centrality_dtf_EC = sorted(in_degree_centrality_dtf_EC.items(), key = operator.itemgetter(1), reverse = True)\n",
    "sorted_in_degree_centrality_dtf_EC = [(channels[t[0]], t[1]) for t in sorted_in_degree_centrality_dtf_EC]\n",
    "sorted_in_degree_centrality_dtf_EC = [('Channel', 'In_degree_centrality')] + sorted_in_degree_centrality_dtf_EC\n",
    "pprint(sorted_in_degree_centrality_dtf_EC[:11])"
   ]
  },
  {
   "cell_type": "markdown",
   "metadata": {},
   "source": [
    "##### 10 highest chanel for the out-degree centrality using the dtf graph"
   ]
  },
  {
   "cell_type": "code",
   "execution_count": 12,
   "metadata": {},
   "outputs": [
    {
     "name": "stdout",
     "output_type": "stream",
     "text": [
      "[('Channel', 'Out_degree_centrality'),\n",
      " ('F7', 3.4996893363673682),\n",
      " ('C4', 3.494569612963412),\n",
      " ('Af3', 3.4661080518988534),\n",
      " ('Cp6', 3.4433346299597867),\n",
      " ('F5', 3.329812559066378),\n",
      " ('Fc5', 3.3289550712866944),\n",
      " ('C2', 3.3286022119176746),\n",
      " ('Af7', 3.2859496478652823),\n",
      " ('F3', 3.2654952033764024),\n",
      " ('Cp1', 3.2450336534454203)]\n"
     ]
    }
   ],
   "source": [
    "sorted_out_degree_centrality_dtf_EC = sorted(out_degree_centrality_dtf_EC.items(), key = operator.itemgetter(1), reverse = True)\n",
    "sorted_out_degree_centrality_dtf_EC = [(channels[t[0]], t[1]) for t in sorted_out_degree_centrality_dtf_EC]\n",
    "sorted_out_degree_centrality_dtf_EC = [('Channel', 'Out_degree_centrality')] + sorted_out_degree_centrality_dtf_EC\n",
    "pprint(sorted_out_degree_centrality_dtf_EC[:11])"
   ]
  }
 ],
 "metadata": {
  "kernelspec": {
   "display_name": "Python 3",
   "language": "python",
   "name": "python3"
  },
  "language_info": {
   "codemirror_mode": {
    "name": "ipython",
    "version": 3
   },
   "file_extension": ".py",
   "mimetype": "text/x-python",
   "name": "python",
   "nbconvert_exporter": "python",
   "pygments_lexer": "ipython3",
   "version": "3.7.0"
  }
 },
 "nbformat": 4,
 "nbformat_minor": 2
}
