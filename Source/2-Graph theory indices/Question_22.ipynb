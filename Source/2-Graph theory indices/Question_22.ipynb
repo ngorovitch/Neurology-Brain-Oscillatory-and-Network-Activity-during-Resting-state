{
 "cells": [
  {
   "cell_type": "markdown",
   "metadata": {},
   "source": [
    "#### Task (class ‘D’):\n",
    "\n",
    "    Search in the literature a definition of small-worldness index (i.e. an index\n",
    "    describing the small-world organization of a network) and compute it."
   ]
  },
  {
   "cell_type": "markdown",
   "metadata": {},
   "source": [
    "#### Importing the routine libraries"
   ]
  },
  {
   "cell_type": "code",
   "execution_count": 3,
   "metadata": {},
   "outputs": [],
   "source": [
    "import sys\n",
    "sys.path.insert(0, '../Lib')\n",
    "import homeworkLib as hwl\n",
    "import pickle\n",
    "from networkx.algorithms import smallworld"
   ]
  },
  {
   "cell_type": "markdown",
   "metadata": {},
   "source": [
    "### Loading our graphs from question 1.2"
   ]
  },
  {
   "cell_type": "code",
   "execution_count": 4,
   "metadata": {},
   "outputs": [],
   "source": [
    "with open(\"../Pickle/EO_12.file\", \"rb\") as f:\n",
    "    EO = pickle.load(f)\n",
    "with open(\"../Pickle/EC_12.file\", \"rb\") as f:\n",
    "    EC = pickle.load(f)\n",
    "\n",
    "# EO: Eyes-opened case\n",
    "dtf_A_EO = EO.bin_adj_matrix_dtf\n",
    "pdc_A_EO = EO.bin_adj_matrix_pdc\n",
    "\n",
    "dtf_graph_EO = EO.dtf_graph\n",
    "pdc_graph_EO = EO.pdc_graph\n",
    "\n",
    "dtf_matrix_EO = EO.dtf_matrix\n",
    "pdc_matrix_EO = EO.pdc_matrix\n",
    "\n",
    "# EC: Eyes-closed case\n",
    "dtf_A_EC = EC.bin_adj_matrix_dtf\n",
    "pdc_A_EC = EC.bin_adj_matrix_pdc\n",
    "\n",
    "dtf_graph_EC = EC.dtf_graph\n",
    "pdc_graph_EC = EC.pdc_graph\n",
    "\n",
    "dtf_matrix_EC = EC.dtf_matrix\n",
    "pdc_matrix_EC = EC.pdc_matrix"
   ]
  },
  {
   "cell_type": "markdown",
   "metadata": {},
   "source": [
    "### small-worldness index"
   ]
  },
  {
   "cell_type": "markdown",
   "metadata": {},
   "source": [
    "According to wikipedia, a small-world network is a type of mathematical graph in which most nodes are not neighbors of one another, but the neighbors of any given node are likely to be neighbors of each other and most nodes can be reached from every other node by a small number of hops or steps. Specifically, a small-world network is defined to be a network where the typical distance L between two randomly chosen nodes (the number of steps required) grows proportionally to the logarithm of the number of nodes N in the network, that is:\n",
    "\n",
    "    L proportional to log(N)\n",
    "\n",
    "Small-world networks have two main charateristics:\n",
    "\n",
    "* high clustering (C) among nodes: C is the proportion of edges ei that exist between the neighbors of a particular node (i) relative to the total number of possible edges between neighbors;\n",
    "* short path lengths (L) as commonly observed in random networks: Path length is a measure of the distance between nodes in the network, calculated as the mean of the shortest geodesic distances between all possible node pairs.\n",
    "\n",
    "Telesford et al. describe in their paper “The Ubiquity of Small-World Networks” (https://europepmc.org/articles/pmc3604768) a Novel small-world measure (ω) as follows:\n",
    "\n",
    "    “Given a graph with characteristic path length, L, and clustering, C, the small-world measurement, ω, is defined by comparing the clustering of the network to that of an equivalent lattice network, C_latt, and comparing path length to that of an equivalent random network, L_rand; the relationship is simply the difference of two ratios defined as:\n",
    "    ω = (L_rand/L) - (C/C_latt)”\n",
    "\n",
    "values of ω are restricted to the interval −1 to 1 regardless of network size: \n",
    "* For Values close to zero, the network is considered small-world: near zero, L ≈ L_rand and C ≈ C_latt;\n",
    "* Positive values indicate a graph with more random characteristics: L ≈ L_rand, and C ≪ C_latt; \n",
    "* Negative values indicate a graph with more regular, or lattice-like, characteristics: L ≫ L_rand, and C ≈ C_latt.\n",
    "\n",
    "This algorithm has alredy been implemented in the \"networkx\" package in the python programming language (networkx.algorithms.smallworld.omega). For comodity we are going to use this tool to compute small-worldness indices for our EEG eyes-opened and eyes-closed networks:\n",
    "\n",
    "    omega(G, niter=100, nrand=10, seed=None)\n",
    "        Return the small-world coefficient (omega) of a graph\n",
    "        Parameters:\t\n",
    "            G: An undirected graph.\n",
    "            niter: Approximate number of rewiring per edge to compute the equivalent random graph.\n",
    "            nrand: Number of random graphs generated to compute the average clustering coefficient (C_latt) \n",
    "                   and average shortest path length (L_rand).\n",
    "            seed: Indicator of random number generation state.\n",
    "\n",
    "\n"
   ]
  },
  {
   "cell_type": "code",
   "execution_count": 5,
   "metadata": {},
   "outputs": [],
   "source": [
    "omega_dtf_EO = smallworld.omega(dtf_graph_EO.to_undirected(), niter=1, nrand=5, seed=1792126)\n",
    "omega_pdc_EO = smallworld.omega(pdc_graph_EO.to_undirected(), niter=1, nrand=5, seed=1792126)\n",
    "omega_dtf_EC = smallworld.omega(dtf_graph_EC.to_undirected(), niter=1, nrand=5, seed=1792126)\n",
    "omega_pdc_EC = smallworld.omega(pdc_graph_EC.to_undirected(), niter=1, nrand=5, seed=1792126)"
   ]
  },
  {
   "cell_type": "markdown",
   "metadata": {},
   "source": [
    "#### Eyes opened case"
   ]
  },
  {
   "cell_type": "code",
   "execution_count": 6,
   "metadata": {},
   "outputs": [
    {
     "name": "stdout",
     "output_type": "stream",
     "text": [
      "Small-worldness index of the dtf graph:  0.03390243902439016\n",
      "Small-worldness index of the pdc graph:  0.02181069471688868\n"
     ]
    }
   ],
   "source": [
    "print(\"Small-worldness index of the dtf graph: \", omega_dtf_EO)\n",
    "print(\"Small-worldness index of the pdc graph: \", omega_pdc_EO)"
   ]
  },
  {
   "cell_type": "markdown",
   "metadata": {},
   "source": [
    "#### Eyes closed case"
   ]
  },
  {
   "cell_type": "code",
   "execution_count": 7,
   "metadata": {},
   "outputs": [
    {
     "name": "stdout",
     "output_type": "stream",
     "text": [
      "Small-worldness index of the dtf graph:  0.055407516309840976\n",
      "Small-worldness index of the pdc graph:  -0.007412494310815143\n"
     ]
    }
   ],
   "source": [
    "print(\"Small-worldness index of the dtf graph: \", omega_dtf_EC)\n",
    "print(\"Small-worldness index of the pdc graph: \", omega_pdc_EC)"
   ]
  },
  {
   "cell_type": "markdown",
   "metadata": {},
   "source": [
    "### Conclusions"
   ]
  },
  {
   "cell_type": "markdown",
   "metadata": {},
   "source": [
    "* DTF graph\n",
    "\n",
    "Eyes-opened DTF graph turned out to be more close to a small-world than eyes-opened DTF graph. 0.03 for the eyes-opened network against 0.05 for the eyes-closed network. However that difference was so small that it could be neglected. In fact, both networks could claim to be small-worlds having omega values pretty close to 0.\n",
    "\n",
    "* PDC graph\n",
    "\n",
    "In the case of PDC networks instead, the difference between eyes-opened and eyes-closed is not insignificant. We calculated 0.02 for the eyes-opened case against -0.007 for the eyes-closed case. Morover, comparing this values to those of the DTF graphs, we realised that using a PDC MVAR estimator led us to networks fitting better the small-world properties."
   ]
  }
 ],
 "metadata": {
  "kernelspec": {
   "display_name": "Python 3",
   "language": "python",
   "name": "python3"
  },
  "language_info": {
   "codemirror_mode": {
    "name": "ipython",
    "version": 3
   },
   "file_extension": ".py",
   "mimetype": "text/x-python",
   "name": "python",
   "nbconvert_exporter": "python",
   "pygments_lexer": "ipython3",
   "version": "3.7.0"
  }
 },
 "nbformat": 4,
 "nbformat_minor": 2
}
