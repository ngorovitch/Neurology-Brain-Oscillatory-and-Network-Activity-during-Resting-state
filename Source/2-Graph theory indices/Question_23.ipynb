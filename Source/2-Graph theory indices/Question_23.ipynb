{
 "cells": [
  {
   "cell_type": "markdown",
   "metadata": {},
   "source": [
    "#### Task (class ‘B’):\n",
    "\n",
    "    Compare the global indices extracted from PDC and DTF connectivity estimations."
   ]
  },
  {
   "cell_type": "markdown",
   "metadata": {},
   "source": [
    "#### Importing the routine libraries"
   ]
  },
  {
   "cell_type": "code",
   "execution_count": 5,
   "metadata": {},
   "outputs": [],
   "source": [
    "import sys\n",
    "sys.path.insert(0, '../Lib')\n",
    "import homeworkLib as hwl\n",
    "import pickle\n",
    "import networkx as nx"
   ]
  },
  {
   "cell_type": "markdown",
   "metadata": {},
   "source": [
    "### Loading our graphs from question 1.2"
   ]
  },
  {
   "cell_type": "code",
   "execution_count": 6,
   "metadata": {},
   "outputs": [],
   "source": [
    "with open(\"../Pickle/EO_12.file\", \"rb\") as f:\n",
    "    EO = pickle.load(f)\n",
    "with open(\"../Pickle/EC_12.file\", \"rb\") as f:\n",
    "    EC = pickle.load(f)\n",
    "\n",
    "# EO: Eyes-opened case\n",
    "dtf_A_EO = EO.bin_adj_matrix_dtf\n",
    "pdc_A_EO = EO.bin_adj_matrix_pdc\n",
    "\n",
    "dtf_graph_EO = EO.dtf_graph\n",
    "pdc_graph_EO = EO.pdc_graph\n",
    "\n",
    "dtf_matrix_EO = EO.dtf_matrix\n",
    "pdc_matrix_EO = EO.pdc_matrix\n",
    "\n",
    "# EC: Eyes-closed case\n",
    "dtf_A_EC = EC.bin_adj_matrix_dtf\n",
    "pdc_A_EC = EC.bin_adj_matrix_pdc\n",
    "\n",
    "dtf_graph_EC = EC.dtf_graph\n",
    "pdc_graph_EC = EC.pdc_graph\n",
    "\n",
    "dtf_matrix_EC = EC.dtf_matrix\n",
    "pdc_matrix_EC = EC.pdc_matrix"
   ]
  },
  {
   "cell_type": "markdown",
   "metadata": {},
   "source": [
    "### Global graph indices"
   ]
  },
  {
   "cell_type": "markdown",
   "metadata": {},
   "source": [
    "#### Eyes opened case"
   ]
  },
  {
   "cell_type": "code",
   "execution_count": 7,
   "metadata": {},
   "outputs": [
    {
     "name": "stdout",
     "output_type": "stream",
     "text": [
      "Clustering coefficient of the dtf graph:  0.5348678449063254\n",
      "Clustering coefficient of the pdc graph:  0.3109809978504136\n",
      "Average path length of the dtf graph:  0.8732638888888888\n",
      "Average path length of the pdc graph:  1.7886904761904763\n"
     ]
    }
   ],
   "source": [
    "print(\"Clustering coefficient of the dtf graph: \", nx.average_clustering(dtf_graph_EO))\n",
    "print(\"Clustering coefficient of the pdc graph: \", nx.average_clustering(pdc_graph_EO))\n",
    "\n",
    "print(\"Average path length of the dtf graph: \", nx.average_shortest_path_length(dtf_graph_EO))\n",
    "print(\"Average path length of the pdc graph: \", nx.average_shortest_path_length(pdc_graph_EO))"
   ]
  },
  {
   "cell_type": "markdown",
   "metadata": {},
   "source": [
    "#### Eyes closed case"
   ]
  },
  {
   "cell_type": "code",
   "execution_count": 8,
   "metadata": {},
   "outputs": [
    {
     "name": "stdout",
     "output_type": "stream",
     "text": [
      "Clustering coefficient of the dtf graph:  0.47227191755347286\n",
      "Clustering coefficient of the pdc graph:  0.33039512558322603\n",
      "Average path length of the dtf graph:  0.7626488095238095\n",
      "Average path length of the pdc graph:  2.1646825396825395\n"
     ]
    }
   ],
   "source": [
    "print(\"Clustering coefficient of the dtf graph: \", nx.average_clustering(dtf_graph_EC))\n",
    "print(\"Clustering coefficient of the pdc graph: \", nx.average_clustering(pdc_graph_EC))\n",
    "\n",
    "print(\"Average path length of the dtf graph: \", nx.average_shortest_path_length(dtf_graph_EC))\n",
    "print(\"Average path length of the pdc graph: \", nx.average_shortest_path_length(pdc_graph_EC))"
   ]
  },
  {
   "cell_type": "markdown",
   "metadata": {},
   "source": [
    "### Conclusions and comparisons"
   ]
  },
  {
   "cell_type": "markdown",
   "metadata": {},
   "source": [
    "#### Eyes-opened case: PDC vs DTF"
   ]
  },
  {
   "cell_type": "markdown",
   "metadata": {},
   "source": [
    "* Clustering coefficient\n",
    "\n",
    "Let's start by talking about the clustering coefficient (CC). We observed that the CC of the DTF network (.53) was considerably greater than that of PDC network (.31). the clustering coefficient of a node is a measure of the probability that two randomly selected \"friends\" of that node are \"friends\" themselves. Ergo, a high average clustering coefficient for a network suggest the ability of that network to highlight group-forming. It then turns out that the DTF MVAR estimator better highlights the connections among brain areas performing related functions than the PDC MVAR estimator.\n",
    "\n",
    "* Average path length\n",
    "\n",
    "Contrary to what has been observed in the CC case, the average path length of the PDC network (1.79) was slightly higher than twice that of the DTF network (.87). The average path length represents the average of the shortest path length, averaged over all pairs of nodes. a low average path length for a network suggests that the network is able to highlight all the shortest possible connections among nodes. In our case, the DTF network was better having mean path length of half that of the PDC network."
   ]
  },
  {
   "cell_type": "markdown",
   "metadata": {},
   "source": [
    "#### Eyes-closed case: PDC vs DTF"
   ]
  },
  {
   "cell_type": "markdown",
   "metadata": {},
   "source": [
    "In this case, for both the clustering coefficient and the average path length, the situation was quite similar to the eyes opened case, namely the the DTF MVAR estimator performed better than the PDC estimator."
   ]
  }
 ],
 "metadata": {
  "kernelspec": {
   "display_name": "Python 3",
   "language": "python",
   "name": "python3"
  },
  "language_info": {
   "codemirror_mode": {
    "name": "ipython",
    "version": 3
   },
   "file_extension": ".py",
   "mimetype": "text/x-python",
   "name": "python",
   "nbconvert_exporter": "python",
   "pygments_lexer": "ipython3",
   "version": "3.7.0"
  }
 },
 "nbformat": 4,
 "nbformat_minor": 2
}
