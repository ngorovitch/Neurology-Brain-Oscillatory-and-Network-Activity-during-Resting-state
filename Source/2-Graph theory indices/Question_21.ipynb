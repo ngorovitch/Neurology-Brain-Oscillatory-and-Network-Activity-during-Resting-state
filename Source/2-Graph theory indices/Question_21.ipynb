{
 "cells": [
  {
   "cell_type": "markdown",
   "metadata": {},
   "source": [
    "#### Task (mandatory):\n",
    "\n",
    "    Compute binary global (clustering coefficient, path length) and local (degree, in/out-degree) graph indices. \n",
    "    List the highest 10 channels for local indices."
   ]
  },
  {
   "cell_type": "markdown",
   "metadata": {},
   "source": [
    "#### Importing the routine libraries"
   ]
  },
  {
   "cell_type": "code",
   "execution_count": 38,
   "metadata": {},
   "outputs": [],
   "source": [
    "import sys\n",
    "sys.path.insert(0, '../Lib')\n",
    "from homeworkLib import EEGGraph\n",
    "import pickle\n",
    "import networkx as nx\n",
    "import pandas as pd\n",
    "import numpy as np\n",
    "import operator\n",
    "from pprint import pprint"
   ]
  },
  {
   "cell_type": "markdown",
   "metadata": {},
   "source": [
    "### Loading our graphs from question 1.2"
   ]
  },
  {
   "cell_type": "code",
   "execution_count": 39,
   "metadata": {},
   "outputs": [],
   "source": [
    "with open(\"../Pickle/EO_12.file\", \"rb\") as f:\n",
    "    EO = pickle.load(f)\n",
    "with open(\"../Pickle/EC_12.file\", \"rb\") as f:\n",
    "    EC = pickle.load(f)\n",
    "\n",
    "# EO: Eyes-opened case\n",
    "dtf_A_EO = EO.bin_adj_matrix_dtf\n",
    "pdc_A_EO = EO.bin_adj_matrix_pdc\n",
    "\n",
    "dtf_graph_EO = EO.dtf_graph\n",
    "pdc_graph_EO = EO.pdc_graph\n",
    "\n",
    "dtf_matrix_EO = EO.dtf_matrix\n",
    "pdc_matrix_EO = EO.pdc_matrix\n",
    "\n",
    "# EC: Eyes-closed case\n",
    "dtf_A_EC = EC.bin_adj_matrix_dtf\n",
    "pdc_A_EC = EC.bin_adj_matrix_pdc\n",
    "\n",
    "dtf_graph_EC = EC.dtf_graph\n",
    "pdc_graph_EC = EC.pdc_graph\n",
    "\n",
    "dtf_matrix_EC = EC.dtf_matrix\n",
    "pdc_matrix_EC = EC.pdc_matrix"
   ]
  },
  {
   "cell_type": "markdown",
   "metadata": {},
   "source": [
    "### Global graph indices"
   ]
  },
  {
   "cell_type": "markdown",
   "metadata": {},
   "source": [
    "#### Eyes opened case"
   ]
  },
  {
   "cell_type": "code",
   "execution_count": 40,
   "metadata": {},
   "outputs": [
    {
     "name": "stdout",
     "output_type": "stream",
     "text": [
      "Clustering coefficient of the dtf graph:  0.5348678449063254\n",
      "Clustering coefficient of the pdc graph:  0.3109809978504136\n",
      "Average path length of the dtf graph:  0.8732638888888888\n",
      "Average path length of the pdc graph:  1.7886904761904763\n"
     ]
    }
   ],
   "source": [
    "print(\"Clustering coefficient of the dtf graph: \", nx.average_clustering(dtf_graph_EO))\n",
    "print(\"Clustering coefficient of the pdc graph: \", nx.average_clustering(pdc_graph_EO))\n",
    "\n",
    "print(\"Average path length of the dtf graph: \", nx.average_shortest_path_length(dtf_graph_EO))\n",
    "print(\"Average path length of the pdc graph: \", nx.average_shortest_path_length(pdc_graph_EO))"
   ]
  },
  {
   "cell_type": "markdown",
   "metadata": {},
   "source": [
    "#### Eyes closed case"
   ]
  },
  {
   "cell_type": "code",
   "execution_count": 41,
   "metadata": {},
   "outputs": [
    {
     "name": "stdout",
     "output_type": "stream",
     "text": [
      "Clustering coefficient of the dtf graph:  0.47227191755347286\n",
      "Clustering coefficient of the pdc graph:  0.33039512558322603\n",
      "Average path length of the dtf graph:  0.7626488095238095\n",
      "Average path length of the pdc graph:  2.1646825396825395\n"
     ]
    }
   ],
   "source": [
    "print(\"Clustering coefficient of the dtf graph: \", nx.average_clustering(dtf_graph_EC))\n",
    "print(\"Clustering coefficient of the pdc graph: \", nx.average_clustering(pdc_graph_EC))\n",
    "\n",
    "print(\"Average path length of the dtf graph: \", nx.average_shortest_path_length(dtf_graph_EC))\n",
    "print(\"Average path length of the pdc graph: \", nx.average_shortest_path_length(pdc_graph_EC))"
   ]
  },
  {
   "cell_type": "markdown",
   "metadata": {},
   "source": [
    "### Local graph indices"
   ]
  },
  {
   "cell_type": "markdown",
   "metadata": {},
   "source": [
    "#### Eyes opened case"
   ]
  },
  {
   "cell_type": "code",
   "execution_count": 42,
   "metadata": {},
   "outputs": [],
   "source": [
    "degree_centrality_dtf_EO = dict(dtf_graph_EO.degree(weight=None))\n",
    "degree_centrality_pdc_EO = dict(pdc_graph_EO.degree(weight=None))\n",
    "\n",
    "in_degree_centrality_dtf_EO = dict(dtf_graph_EO.in_degree(weight=None))\n",
    "in_degree_centrality_pdc_EO = dict(pdc_graph_EO.in_degree(weight=None))\n",
    "\n",
    "out_degree_centrality_dtf_EO = dict(dtf_graph_EO.out_degree(weight=None))\n",
    "out_degree_centrality_pdc_EO = dict(pdc_graph_EO.out_degree(weight=None))"
   ]
  },
  {
   "cell_type": "markdown",
   "metadata": {},
   "source": [
    "##### 10 highest chanel for the degree centrality using the dtf graph"
   ]
  },
  {
   "cell_type": "code",
   "execution_count": 43,
   "metadata": {},
   "outputs": [
    {
     "name": "stdout",
     "output_type": "stream",
     "text": [
      "[('Channel', 'Degree_centrality'),\n",
      " ('Af4', 74),\n",
      " ('Po3', 73),\n",
      " ('Af8', 72),\n",
      " ('F4', 72),\n",
      " ('O2', 69),\n",
      " ('Afz', 67),\n",
      " ('P5', 57),\n",
      " ('Po4', 54),\n",
      " ('F2', 53),\n",
      " ('Oz', 53)]\n"
     ]
    }
   ],
   "source": [
    "sorted_degree_centrality_dtf_EO = sorted(degree_centrality_dtf_EO.items(), key = operator.itemgetter(1), reverse = True)\n",
    "nodes = np.arange(len(EO.labels))\n",
    "channels = dict(zip(nodes, EO.labels))\n",
    "sorted_degree_centrality_dtf_EO = [(channels[t[0]], t[1]) for t in sorted_degree_centrality_dtf_EO]\n",
    "sorted_degree_centrality_dtf_EO = [('Channel', 'Degree_centrality')] + sorted_degree_centrality_dtf_EO\n",
    "pprint(sorted_degree_centrality_dtf_EO[:11])"
   ]
  },
  {
   "cell_type": "markdown",
   "metadata": {},
   "source": [
    "##### 10 highest chanel for the in-degree centrality using the dtf graph"
   ]
  },
  {
   "cell_type": "code",
   "execution_count": 44,
   "metadata": {},
   "outputs": [
    {
     "name": "stdout",
     "output_type": "stream",
     "text": [
      "[('Channel', 'In_degree_centrality'),\n",
      " ('F4', 63),\n",
      " ('Po3', 63),\n",
      " ('Af4', 62),\n",
      " ('Af8', 62),\n",
      " ('Afz', 55),\n",
      " ('O2', 48),\n",
      " ('F2', 43),\n",
      " ('P5', 43),\n",
      " ('Po4', 42),\n",
      " ('Oz', 39)]\n"
     ]
    }
   ],
   "source": [
    "sorted_in_degree_centrality_dtf_EO = sorted(in_degree_centrality_dtf_EO.items(), key = operator.itemgetter(1), reverse = True)\n",
    "sorted_in_degree_centrality_dtf_EO = [(channels[t[0]], t[1]) for t in sorted_in_degree_centrality_dtf_EO]\n",
    "sorted_in_degree_centrality_dtf_EO = [('Channel', 'In_degree_centrality')] + sorted_in_degree_centrality_dtf_EO\n",
    "pprint(sorted_in_degree_centrality_dtf_EO[:11])"
   ]
  },
  {
   "cell_type": "markdown",
   "metadata": {},
   "source": [
    "##### 10 highest chanel for the out-degree centrality using the dtf graph"
   ]
  },
  {
   "cell_type": "code",
   "execution_count": 45,
   "metadata": {},
   "outputs": [
    {
     "name": "stdout",
     "output_type": "stream",
     "text": [
      "[('Channel', 'Out_degree_centrality'),\n",
      " ('O2', 21),\n",
      " ('Cp6', 18),\n",
      " ('C6', 17),\n",
      " ('T9', 17),\n",
      " ('Po8', 17),\n",
      " ('T7', 16),\n",
      " ('C3', 15),\n",
      " ('C2', 15),\n",
      " ('C4', 15),\n",
      " ('Cpz', 15)]\n"
     ]
    }
   ],
   "source": [
    "sorted_out_degree_centrality_dtf_EO = sorted(out_degree_centrality_dtf_EO.items(), key = operator.itemgetter(1), reverse = True)\n",
    "sorted_out_degree_centrality_dtf_EO = [(channels[t[0]], t[1]) for t in sorted_out_degree_centrality_dtf_EO]\n",
    "sorted_out_degree_centrality_dtf_EO = [('Channel', 'Out_degree_centrality')] + sorted_out_degree_centrality_dtf_EO\n",
    "pprint(sorted_out_degree_centrality_dtf_EO[:11])"
   ]
  },
  {
   "cell_type": "markdown",
   "metadata": {},
   "source": [
    "#### Eyes closed case"
   ]
  },
  {
   "cell_type": "code",
   "execution_count": 46,
   "metadata": {},
   "outputs": [],
   "source": [
    "degree_centrality_dtf_EC = dict(dtf_graph_EC.degree(weight=None))\n",
    "degree_centrality_pdc_EC = dict(pdc_graph_EC.degree(weight=None))\n",
    "\n",
    "in_degree_centrality_dtf_EC = dict(dtf_graph_EC.in_degree(weight=None))\n",
    "in_degree_centrality_pdc_EC = dict(pdc_graph_EC.in_degree(weight=None))\n",
    "\n",
    "out_degree_centrality_dtf_EC = dict(dtf_graph_EC.out_degree(weight=None))\n",
    "out_degree_centrality_pdc_EC = dict(pdc_graph_EC.out_degree(weight=None))"
   ]
  },
  {
   "cell_type": "markdown",
   "metadata": {},
   "source": [
    "##### 10 highest chanel for the degree centrality using the dtf graph"
   ]
  },
  {
   "cell_type": "code",
   "execution_count": 47,
   "metadata": {},
   "outputs": [
    {
     "name": "stdout",
     "output_type": "stream",
     "text": [
      "[('Channel', 'Degree_centrality'),\n",
      " ('O2', 75),\n",
      " ('Cp1', 74),\n",
      " ('Af8', 71),\n",
      " ('F4', 71),\n",
      " ('F2', 66),\n",
      " ('O1', 59),\n",
      " ('Iz', 55),\n",
      " ('Poz', 53),\n",
      " ('Af4', 50),\n",
      " ('P5', 49)]\n"
     ]
    }
   ],
   "source": [
    "sorted_degree_centrality_dtf_EC = sorted(degree_centrality_dtf_EC.items(), key = operator.itemgetter(1), reverse = True)\n",
    "nodes = np.arange(len(EC.labels))\n",
    "channels = dict(zip(nodes, EC.labels))\n",
    "sorted_degree_centrality_dtf_EC = [(channels[t[0]], t[1]) for t in sorted_degree_centrality_dtf_EC]\n",
    "sorted_degree_centrality_dtf_EC = [('Channel', 'Degree_centrality')] + sorted_degree_centrality_dtf_EC\n",
    "pprint(sorted_degree_centrality_dtf_EC[:11])"
   ]
  },
  {
   "cell_type": "markdown",
   "metadata": {},
   "source": [
    "##### 10 highest chanel for the in-degree centrality using the dtf graph"
   ]
  },
  {
   "cell_type": "code",
   "execution_count": 48,
   "metadata": {},
   "outputs": [
    {
     "name": "stdout",
     "output_type": "stream",
     "text": [
      "[('Channel', 'In_Degree_centrality'),\n",
      " ('O2', 63),\n",
      " ('F4', 62),\n",
      " ('Af8', 61),\n",
      " ('Cp1', 58),\n",
      " ('F2', 52),\n",
      " ('O1', 51),\n",
      " ('Iz', 47),\n",
      " ('Poz', 46),\n",
      " ('Af4', 38),\n",
      " ('P5', 37)]\n"
     ]
    }
   ],
   "source": [
    "sorted_in_degree_centrality_dtf_EC = sorted(in_degree_centrality_dtf_EC.items(), key = operator.itemgetter(1), reverse = True)\n",
    "sorted_in_degree_centrality_dtf_EC = [(channels[t[0]], t[1]) for t in sorted_in_degree_centrality_dtf_EC]\n",
    "sorted_in_degree_centrality_dtf_EC = [('Channel', 'In_Degree_centrality')] + sorted_in_degree_centrality_dtf_EC\n",
    "pprint(sorted_in_degree_centrality_dtf_EC[:11])"
   ]
  },
  {
   "cell_type": "markdown",
   "metadata": {},
   "source": [
    "##### 10 highest chanel for the out-degree centrality using the dtf graph"
   ]
  },
  {
   "cell_type": "code",
   "execution_count": 49,
   "metadata": {},
   "outputs": [
    {
     "name": "stdout",
     "output_type": "stream",
     "text": [
      "[('Channel', 'Out_degree_centrality'),\n",
      " ('Fc5', 18),\n",
      " ('C2', 18),\n",
      " ('C4', 18),\n",
      " ('Cp6', 18),\n",
      " ('Af3', 18),\n",
      " ('F7', 18),\n",
      " ('F3', 18),\n",
      " ('Fc3', 17),\n",
      " ('Fc1', 17),\n",
      " ('Af7', 17)]\n"
     ]
    }
   ],
   "source": [
    "sorted_out_degree_centrality_dtf_EC = sorted(out_degree_centrality_dtf_EC.items(), key = operator.itemgetter(1), reverse = True)\n",
    "sorted_out_degree_centrality_dtf_EC = [(channels[t[0]], t[1]) for t in sorted_out_degree_centrality_dtf_EC]\n",
    "sorted_out_degree_centrality_dtf_EC = [('Channel', 'Out_degree_centrality')] + sorted_out_degree_centrality_dtf_EC\n",
    "pprint(sorted_out_degree_centrality_dtf_EC[:11])"
   ]
  }
 ],
 "metadata": {
  "kernelspec": {
   "display_name": "Python 3",
   "language": "python",
   "name": "python3"
  },
  "language_info": {
   "codemirror_mode": {
    "name": "ipython",
    "version": 3
   },
   "file_extension": ".py",
   "mimetype": "text/x-python",
   "name": "python",
   "nbconvert_exporter": "python",
   "pygments_lexer": "ipython3",
   "version": "3.7.0"
  }
 },
 "nbformat": 4,
 "nbformat_minor": 2
}
